{
 "cells": [
  {
   "cell_type": "markdown",
   "id": "5ca453b5-8b50-4b35-81f4-dbc16919b377",
   "metadata": {},
   "source": [
    "## Write a function called ‘calculate_mean’ that takes a list of numbers as input and returns the mean (average) of the numbers. The function should calculate the mean using the sum of the numbers divided by the total count.\n",
    "\n",
    "Example:\n",
    "\n",
    "def calculate_mean(numbers):\n",
    "\n",
    "    total = sum(numbers\n",
    "    \n",
    "    count = len(numbers)\n",
    "    \n",
    "    mean = total / count\n",
    "    \n",
    "    return mean\n",
    "    \n",
    "\n",
    "data = [10, 15, 20, 25, 30\n",
    "\n",
    "mean_value = calculate_mean(data\n",
    "\n",
    "print(\"Mean:\", mean_value)\n",
    "\n",
    "\n",
    "Output:\n",
    "Mean: 20.0\n"
   ]
  },
  {
   "cell_type": "code",
   "execution_count": 1,
   "id": "37c8ebc1-568d-4f62-93b9-77bb55a4db91",
   "metadata": {},
   "outputs": [],
   "source": [
    "def calculate_mean(numbers):\n",
    "\n",
    "    total = sum(numbers)\n",
    "    \n",
    "    count = len(numbers)\n",
    "    \n",
    "    mean = total / count\n",
    "    \n",
    "    return mean\n",
    "    \n",
    "\n",
    " "
   ]
  },
  {
   "cell_type": "code",
   "execution_count": 2,
   "id": "c2898934-add5-49ca-b206-3c65e5feaad6",
   "metadata": {},
   "outputs": [
    {
     "name": "stdout",
     "output_type": "stream",
     "text": [
      "Mean: 20.0\n"
     ]
    }
   ],
   "source": [
    "data = [10, 15, 20, 25, 30]\n",
    "\n",
    "mean_value = calculate_mean(data)\n",
    "\n",
    "print(\"Mean:\", mean_value)\n"
   ]
  },
  {
   "cell_type": "code",
   "execution_count": null,
   "id": "0b14d034-1009-43b0-8e5f-cda6ab64656d",
   "metadata": {},
   "outputs": [],
   "source": []
  }
 ],
 "metadata": {
  "kernelspec": {
   "display_name": "Python 3 (ipykernel)",
   "language": "python",
   "name": "python3"
  },
  "language_info": {
   "codemirror_mode": {
    "name": "ipython",
    "version": 3
   },
   "file_extension": ".py",
   "mimetype": "text/x-python",
   "name": "python",
   "nbconvert_exporter": "python",
   "pygments_lexer": "ipython3",
   "version": "3.10.8"
  }
 },
 "nbformat": 4,
 "nbformat_minor": 5
}
