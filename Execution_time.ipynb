{
 "cells": [
  {
   "cell_type": "markdown",
   "id": "534e8fdb-f128-4265-af0a-b567106749be",
   "metadata": {},
   "source": [
    "## Implement a decorator function called ‘timer’ that measures the execution time of a function. The ‘timer’ decorator should print the time taken by the decorated function to execute. Use the ‘time’ module in Python to calculate the execution time.\n",
    "\n",
    "Example:\n",
    "\n",
    "import time\n",
    "\n",
    "@timer\n",
    "\n",
    "def my_function():\n",
    "\n",
    "    # Function code goes here\n",
    "    time.sleep(2)\n",
    "\n",
    "my_function()\n",
    "\n",
    "\n",
    "Output:\n",
    "\n",
    "\"Execution time: 2.00123 seconds\""
   ]
  },
  {
   "cell_type": "code",
   "execution_count": 26,
   "id": "f9d3de49-8002-4a00-8c37-4158e6c05c8e",
   "metadata": {},
   "outputs": [],
   "source": [
    "import time\n",
    "def my_function():\n",
    "    start = time.time()\n",
    "    time.sleep(2)\n",
    "    end = time.time()\n",
    "    td = (end-start) \n",
    "    return td\n",
    " \n"
   ]
  },
  {
   "cell_type": "code",
   "execution_count": 27,
   "id": "1902286b-2172-4b92-80ba-c1d4d3106e9e",
   "metadata": {},
   "outputs": [
    {
     "data": {
      "text/plain": [
       "2.0020604133605957"
      ]
     },
     "execution_count": 27,
     "metadata": {},
     "output_type": "execute_result"
    }
   ],
   "source": [
    "my_function()"
   ]
  },
  {
   "cell_type": "code",
   "execution_count": null,
   "id": "f3edefba-ab88-48f5-97b6-e6e6d4d0346b",
   "metadata": {},
   "outputs": [],
   "source": []
  },
  {
   "cell_type": "code",
   "execution_count": null,
   "id": "99950191-e3fe-4497-911d-0b1b56f52d79",
   "metadata": {},
   "outputs": [],
   "source": []
  }
 ],
 "metadata": {
  "kernelspec": {
   "display_name": "Python 3 (ipykernel)",
   "language": "python",
   "name": "python3"
  },
  "language_info": {
   "codemirror_mode": {
    "name": "ipython",
    "version": 3
   },
   "file_extension": ".py",
   "mimetype": "text/x-python",
   "name": "python",
   "nbconvert_exporter": "python",
   "pygments_lexer": "ipython3",
   "version": "3.10.8"
  }
 },
 "nbformat": 4,
 "nbformat_minor": 5
}
