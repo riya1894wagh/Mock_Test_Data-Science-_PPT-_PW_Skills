{
 "cells": [
  {
   "cell_type": "markdown",
   "id": "f559cfcd-2462-40c0-a3f3-4babdd0b0bdb",
   "metadata": {},
   "source": [
    "## Write a function that takes a list of numbers as input and returns a new list containing only the even numbers from the input list. Use list comprehension to solve this problem.\n",
    "\n",
    "Example:\n",
    "\n",
    "Input: [1, 2, 3, 4, 5, 6, 7, 8, 9, 10]\n",
    "\n",
    "Output: [2, 4, 6, 8, 10]"
   ]
  },
  {
   "cell_type": "code",
   "execution_count": 4,
   "id": "801dbae1-74ee-4c76-beac-a28e51cd0510",
   "metadata": {},
   "outputs": [],
   "source": [
    "def even(list):\n",
    "    result = [i for i in list if i%2 == 0]\n",
    "    return result"
   ]
  },
  {
   "cell_type": "code",
   "execution_count": 5,
   "id": "daf193ce-62e7-479a-943f-0096a1265b99",
   "metadata": {},
   "outputs": [],
   "source": [
    "input =  [1, 2, 3, 4, 5, 6, 7, 8, 9, 10]"
   ]
  },
  {
   "cell_type": "code",
   "execution_count": 6,
   "id": "6fa04792-0116-4e90-bca1-784912829b25",
   "metadata": {},
   "outputs": [
    {
     "data": {
      "text/plain": [
       "[2, 4, 6, 8, 10]"
      ]
     },
     "execution_count": 6,
     "metadata": {},
     "output_type": "execute_result"
    }
   ],
   "source": [
    "even(input)"
   ]
  },
  {
   "cell_type": "code",
   "execution_count": null,
   "id": "4efca517-6086-40ed-9948-496fee630e76",
   "metadata": {},
   "outputs": [],
   "source": []
  }
 ],
 "metadata": {
  "kernelspec": {
   "display_name": "Python 3 (ipykernel)",
   "language": "python",
   "name": "python3"
  },
  "language_info": {
   "codemirror_mode": {
    "name": "ipython",
    "version": 3
   },
   "file_extension": ".py",
   "mimetype": "text/x-python",
   "name": "python",
   "nbconvert_exporter": "python",
   "pygments_lexer": "ipython3",
   "version": "3.10.8"
  }
 },
 "nbformat": 4,
 "nbformat_minor": 5
}
