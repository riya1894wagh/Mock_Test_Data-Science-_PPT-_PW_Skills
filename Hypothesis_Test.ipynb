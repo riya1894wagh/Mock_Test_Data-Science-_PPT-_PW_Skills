{
 "cells": [
  {
   "cell_type": "markdown",
   "id": "feb8a99b-87b1-4b3f-8416-2f2614bc654c",
   "metadata": {},
   "source": [
    "## Write a function called ‘perform_hypothesis_test’ that takes two lists of numbers as input, representing two samples. The function should perform a two-sample t-test and return the p-value. Use the ‘scipy.stats’ module in Python to calculate the t-test and p-value.\n",
    "\n",
    "Example:\n",
    "\n",
    "from scipy import stats\n",
    "\n",
    "\n",
    "def perform_hypothesis_test(sample1, sample2):\n",
    "\n",
    "    t_statistic, p_value = stats.ttest_ind(sample1, sample2)\n",
    "    \n",
    "    return p_value\n",
    "\n",
    "sample1 = [5, 10, 15, 20, 25]\n",
    "\n",
    "sample2 = [10, 20, 30, 40, 50]\n",
    "\n",
    "p_value = perform_hypothesis_test(sample1, sample2)\n",
    "\n",
    "print(\"P-value:\", p_value)\n",
    "\n",
    "Output:\n",
    "P-value: 0.1064706396450037"
   ]
  },
  {
   "cell_type": "code",
   "execution_count": 1,
   "id": "be7ef1b4-971f-4406-82e4-9d2b3a9011bc",
   "metadata": {},
   "outputs": [],
   "source": [
    "from scipy import stats\n",
    "\n",
    "def perform_hypothesis_test(sample1, sample2):\n",
    "\n",
    "    t_statistic, p_value = stats.ttest_ind(sample1, sample2)\n",
    "    \n",
    "    return p_value\n"
   ]
  },
  {
   "cell_type": "code",
   "execution_count": 2,
   "id": "004484f7-d96a-4e20-b643-7e8fe2e91f66",
   "metadata": {},
   "outputs": [],
   "source": [
    "sample1 = [5, 10, 15, 20, 25]\n",
    "\n",
    "sample2 = [10, 20, 30, 40, 50]"
   ]
  },
  {
   "cell_type": "code",
   "execution_count": 3,
   "id": "b313c62b-d3ba-4b9b-8775-155d7fde3b76",
   "metadata": {},
   "outputs": [
    {
     "name": "stdout",
     "output_type": "stream",
     "text": [
      "P-value: 0.09434977284243756\n"
     ]
    }
   ],
   "source": [
    "p_value = perform_hypothesis_test(sample1, sample2)\n",
    "\n",
    "print(\"P-value:\", p_value)\n"
   ]
  },
  {
   "cell_type": "code",
   "execution_count": null,
   "id": "36ad8ef7-8843-4194-a6f8-89ba5ca642e8",
   "metadata": {},
   "outputs": [],
   "source": []
  }
 ],
 "metadata": {
  "kernelspec": {
   "display_name": "Python 3 (ipykernel)",
   "language": "python",
   "name": "python3"
  },
  "language_info": {
   "codemirror_mode": {
    "name": "ipython",
    "version": 3
   },
   "file_extension": ".py",
   "mimetype": "text/x-python",
   "name": "python",
   "nbconvert_exporter": "python",
   "pygments_lexer": "ipython3",
   "version": "3.10.8"
  }
 },
 "nbformat": 4,
 "nbformat_minor": 5
}
